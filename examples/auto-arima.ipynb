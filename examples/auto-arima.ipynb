{
 "cells": [
  {
   "cell_type": "code",
   "execution_count": 34,
   "id": "4f41a4dd",
   "metadata": {},
   "outputs": [
    {
     "name": "stdout",
     "output_type": "stream",
     "text": [
      "Australia livestock population 1961-2007\n",
      "2      112\n",
      "3      118\n",
      "4      132\n",
      "5      129\n",
      "6      121\n",
      "      ... \n",
      "141    606\n",
      "142    508\n",
      "143    461\n",
      "144    390\n",
      "145    432\n",
      "Length: 144, dtype: object\n",
      "10-year forecast of livestock population\n",
      "       point_fc     lower80     upper80     lower95     upper95\n",
      "146  483.379872  449.320088  517.439656  431.289928  535.469817\n",
      "147  490.999338  439.675220  542.323456  412.505873  569.492803\n",
      "148  520.277330  464.069266  576.485394  434.314514  606.240146\n",
      "149  508.844860  451.306599  566.383120  420.847684  596.842035\n",
      "150  505.262344  447.503337  563.021352  416.927565  593.597124\n",
      "151  493.322791  434.718661  551.926922  403.695508  582.950075\n",
      "152  487.677436  428.052776  547.302096  396.489387  578.865484\n",
      "153  488.078403  428.149624  548.007182  396.425244  579.731562\n",
      "154  492.426457  432.497651  552.355264  400.773257  584.079657\n",
      "155  500.272900  440.158281  560.387518  408.335524  592.210275\n"
     ]
    },
    {
     "data": {
      "image/png": "[encoded data removed]",
      "text/plain": [
       "<Figure size 432x288 with 1 Axes>"
      ]
     },
     "metadata": {},
     "output_type": "display_data"
    }
   ],
   "source": [
    "'''\n",
    "This example shows automatic fitting of an arima model with a linear \n",
    "trend as a regressor. It is based on a post on Hyndsight, a blog by \n",
    "R Forecast package author Rob J. Hyndman.\n",
    " \n",
    "See: http://robjhyndman.com/hyndsight/piecewise-linear-trends/#more-3413\n",
    "'''\n",
    "# Not needed if the package is installed\n",
    "import sys, os\n",
    "import pandas as pd\n",
    "sys.path.append(os.path.abspath('..'))\n",
    "\n",
    "from rforecast import ts_io\n",
    "from rforecast import wrappers\n",
    "from rforecast import converters\n",
    "from rforecast import plots\n",
    "\n",
    "# This is how to import data that is installed in R.\n",
    "stock = ts_io.read_series('https://raw.githubusercontent.com/jbrownlee/Datasets/master/airline-passengers.csv')\n",
    "stock = converters.sequence_as_series(stock)\n",
    "stock = stock[1:]\n",
    "fc = wrappers.auto_arima(stock)\n",
    "print('Australia livestock population 1961-2007')\n",
    "print(stock)\n",
    "# plots.plot_ts(stock)\n",
    "print('10-year forecast of livestock population')\n",
    "print(fc)\n",
    "plots.plot_forecast(fc, stock)\n",
    "\n",
    "\n",
    "\n"
   ]
  },
  {
   "cell_type": "code",
   "execution_count": null,
   "id": "232475ec",
   "metadata": {},
   "outputs": [],
   "source": []
  }
 ],
 "metadata": {
  "kernelspec": {
   "display_name": "Python 3 (ipykernel)",
   "language": "python",
   "name": "python3"
  },
  "language_info": {
   "codemirror_mode": {
    "name": "ipython",
    "version": 3
   },
   "file_extension": ".py",
   "mimetype": "text/x-python",
   "name": "python",
   "nbconvert_exporter": "python",
   "pygments_lexer": "ipython3",
   "version": "3.9.2"
  }
 },
 "nbformat": 4,
 "nbformat_minor": 5
}
